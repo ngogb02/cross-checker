{
 "cells": [
  {
   "cell_type": "code",
   "execution_count": null,
   "id": "ae77d383",
   "metadata": {},
   "outputs": [],
   "source": [
    "from openpyxl import load_workbook\n",
    "from openpyxl.cell.rich_text import CellRichText, TextBlock\n",
    "\n",
    "workbook = load_workbook(\"sample_data/test_doc.xlsx\", rich_text=True)\n",
    "\n",
    "# Always working with the first sheet, index at 0.\n",
    "worksheet = workbook.worksheets[0]\n",
    "\n",
    "# (Skip the header row) iterate the row, cell by cell, left to right.\n",
    "for row in worksheet.iter_rows(min_row=2): # min_row = 1 (header), 2 = first data row (skipping the header row)\n",
    "    for cell in row:\n",
    "        \n",
    "        # If the cell is empty or cell is a string without a strike-through, enter to continue (skip this cell - do nothing with it)\n",
    "        if cell.value is None or isinstance(cell.value, str) and not cell.font.strike:\n",
    "            continue # continue to next iteration - doesn't proceed with next if-condition\n",
    "        \n",
    "        # If the entire cell is strike-through, clear the cell\n",
    "        if isinstance(cell.value, str) and cell.font.strike:\n",
    "            cell.value = None \n",
    "            continue # continue to next interation - doesn't proceed with next if-condition\n",
    "        \n",
    "        # Otherwise, if cell.value is a CellRichText, it means the content of the cell contains rich text, like coloring and strike-thrus.\n",
    "        if isinstance(cell.value, CellRichText):\n",
    "            filtered_runs = [] # Initiate empty list to contain runs w/o strike-thrus. \n",
    "\n",
    "            # Iterate through the runs in the rich text, append all runs w/o a strike-thru to filtered_runs list. \n",
    "            for run in cell.value:\n",
    "                if isinstance(run, TextBlock) and run.font.strike is None and run.text != '\\n':\n",
    "                    run.text = run.text.strip() # Strip all '\\n' \n",
    "                    run.text += '\\n'            # Add '\\n' to the end of the text.\n",
    "                    filtered_runs.append(run)   # Add modified run to list.\n",
    "\n",
    "                # Sometimes, run is just a str and not TextBlock.\n",
    "                elif isinstance(run, str):\n",
    "                    run = run.strip('\\n') \n",
    "                    run += '\\n'\n",
    "                    filtered_runs.append(run)\n",
    "\n",
    "            # Recreate cell.value CellRichText with the filtered_runs list that only contains runs w/o strike-thrus. \n",
    "            cell.value = CellRichText(filtered_runs)\n",
    "\n",
    "workbook.save(\"sample_data/output_test.xlsx\")\n"
   ]
  },
  {
   "cell_type": "code",
   "execution_count": 4,
   "id": "e4512b83",
   "metadata": {},
   "outputs": [],
   "source": [
    "from pydantic import BaseModel\n",
    "import pandas as pd\n",
    "\n",
    "df = pd.read_excel(\"sample_data/SRO658Markup.xlsx\", engine=\"openpyxl\")\n",
    "\n"
   ]
  },
  {
   "cell_type": "code",
   "execution_count": null,
   "id": "3e0f2304",
   "metadata": {},
   "outputs": [],
   "source": [
    "import openpyxl, sys, pathlib, platform\n",
    "print(\"openpyxl version  →\", openpyxl.__version__)\n",
    "print(\"module location   →\", pathlib.Path(openpyxl.__file__).as_posix())\n",
    "print(\"python executable →\", sys.executable)\n",
    "print(\"python version    →\", platform.python_version())\n"
   ]
  },
  {
   "cell_type": "code",
   "execution_count": null,
   "id": "bb279b9d",
   "metadata": {},
   "outputs": [],
   "source": [
    "from pydantic import BaseModel\n",
    "import pandas as pd\n",
    "\n",
    "df = pd.read_excel(\"sample_data/SRO658_DOORS.xlsx\", engine=\"openpyxl\")\n",
    "\n",
    "df.columns\n",
    "# df['Object Text']"
   ]
  },
  {
   "cell_type": "code",
   "execution_count": null,
   "id": "6255859b",
   "metadata": {},
   "outputs": [],
   "source": [
    "from pydantic import BaseModel\n",
    "import pandas as pd\n",
    "\n",
    "# Read and load the markup into dataframe.\n",
    "df_markup = pd.read_excel(\"sample_data/SRO658Markup.xlsx\", engine=\"openpyxl\")\n",
    "# Read and load the export from DOORS into dataframe.\n",
    "df_doors = pd.read_excel(\"sample_data/SRO658_DOORS.xlsx\", engine=\"openpyxl\")\n",
    "\n",
    "df_compare = df_markup['Object Text'].compare(df_doors['Object Text'], align_axis=\"index\")\n",
    "df_compare.infer_objects\n",
    "# print(df_compare['self'])\n",
    "# print(df_compare['other'])\n"
   ]
  }
 ],
 "metadata": {
  "kernelspec": {
   "display_name": "venv",
   "language": "python",
   "name": "python3"
  },
  "language_info": {
   "codemirror_mode": {
    "name": "ipython",
    "version": 3
   },
   "file_extension": ".py",
   "mimetype": "text/x-python",
   "name": "python",
   "nbconvert_exporter": "python",
   "pygments_lexer": "ipython3",
   "version": "3.12.1"
  }
 },
 "nbformat": 4,
 "nbformat_minor": 5
}
