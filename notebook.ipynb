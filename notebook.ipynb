{
 "cells": [
  {
   "cell_type": "code",
   "execution_count": null,
   "id": "e4512b83",
   "metadata": {},
   "outputs": [],
   "source": [
    "from pydantic import BaseModel\n",
    "import pandas as pd\n",
    "\n",
    "df = pd.read_excel(\"sample_data/SRO658Markup.xlsx\", engine=\"openpyxl\")\n",
    "\n"
   ]
  },
  {
   "cell_type": "code",
   "execution_count": 1,
   "id": "ae77d383",
   "metadata": {},
   "outputs": [
    {
     "name": "stdout",
     "output_type": "stream",
     "text": [
      "pass first if\n",
      "pass second if\n"
     ]
    },
    {
     "ename": "AttributeError",
     "evalue": "'Cell' object has no attribute 'rich_text'",
     "output_type": "error",
     "traceback": [
      "\u001b[31m---------------------------------------------------------------------------\u001b[39m",
      "\u001b[31mAttributeError\u001b[39m                            Traceback (most recent call last)",
      "\u001b[36mCell\u001b[39m\u001b[36m \u001b[39m\u001b[32mIn[1]\u001b[39m\u001b[32m, line 26\u001b[39m\n\u001b[32m     23\u001b[39m \u001b[38;5;28mprint\u001b[39m(\u001b[33m\"\u001b[39m\u001b[33mpass second if\u001b[39m\u001b[33m\"\u001b[39m)\n\u001b[32m     25\u001b[39m \u001b[38;5;66;03m# Otherwise, at run-level formatting\u001b[39;00m\n\u001b[32m---> \u001b[39m\u001b[32m26\u001b[39m \u001b[38;5;28;01mif\u001b[39;00m \u001b[43mcell\u001b[49m\u001b[43m.\u001b[49m\u001b[43mrich_text\u001b[49m:\n\u001b[32m     27\u001b[39m     kept_chunks = [\n\u001b[32m     28\u001b[39m         run.text\n\u001b[32m     29\u001b[39m         \u001b[38;5;28;01mfor\u001b[39;00m run \u001b[38;5;129;01min\u001b[39;00m cell.rich_text\n\u001b[32m     30\u001b[39m         \u001b[38;5;28;01mif\u001b[39;00m \u001b[38;5;129;01mnot\u001b[39;00m (run.font \u001b[38;5;129;01mand\u001b[39;00m run.font.strike) \u001b[38;5;66;03m# Keep only non-strike runs\u001b[39;00m\n\u001b[32m     31\u001b[39m     ]\n\u001b[32m     32\u001b[39m     cell.value = \u001b[33m\"\u001b[39m\u001b[33m\"\u001b[39m.join(kept_chunks)\n",
      "\u001b[31mAttributeError\u001b[39m: 'Cell' object has no attribute 'rich_text'"
     ]
    }
   ],
   "source": [
    "from openpyxl import load_workbook\n",
    "import openpyxl\n",
    "\n",
    "workbook = load_workbook(\"sample_data/SRO658Markup.xlsx\", rich_text=True)\n",
    "\n",
    "# Always working with the first sheet\n",
    "worksheet = workbook.worksheets[0]\n",
    "\n",
    "# Iterate the row (skip the header row)\n",
    "for row in worksheet.iter_rows(min_row=2): # 1 = header, 2 = first data row (skipping the header row)\n",
    "    for cell in row:\n",
    "        # Skip empty cell or non-string cells\n",
    "        if cell.value is None or not isinstance(cell.value, str):\n",
    "            continue # continue to next iteration - doesn't proceed with next if-condition\n",
    "        \n",
    "        print(\"pass first if\")\n",
    "\n",
    "        # If entire cell is strike-through, clear the cell\n",
    "        if cell.font and cell.font.strike:\n",
    "            cell.value = None\n",
    "            continue # continue to next interation - doesn't proceed with next if-condition\n",
    "        \n",
    "        print(\"pass second if\")\n",
    "\n",
    "        # Otherwise, at run-level formatting\n",
    "        if cell.rich_text:\n",
    "            kept_chunks = [\n",
    "                run.text\n",
    "                for run in cell.rich_text\n",
    "                if not (run.font and run.font.strike) # Keep only non-strike runs\n",
    "            ]\n",
    "            cell.value = \"\".join(kept_chunks)\n",
    "            cell.rich_text = None\n",
    "            print(\"end of getattr\")\n",
    "\n",
    "workbook.save(\"sample_data/output_markup.xlsx\")\n",
    "        \n",
    "\n"
   ]
  },
  {
   "cell_type": "code",
   "execution_count": 2,
   "id": "3e0f2304",
   "metadata": {},
   "outputs": [
    {
     "name": "stdout",
     "output_type": "stream",
     "text": [
      "openpyxl version  → 3.1.5\n",
      "module location   → c:/Users/Tom/Documents/cross-checker/venv/Lib/site-packages/openpyxl/__init__.py\n",
      "python executable → c:\\Users\\Tom\\Documents\\cross-checker\\venv\\Scripts\\python.exe\n",
      "python version    → 3.13.2\n"
     ]
    }
   ],
   "source": [
    "import openpyxl, sys, pathlib, platform\n",
    "print(\"openpyxl version  →\", openpyxl.__version__)\n",
    "print(\"module location   →\", pathlib.Path(openpyxl.__file__).as_posix())\n",
    "print(\"python executable →\", sys.executable)\n",
    "print(\"python version    →\", platform.python_version())\n"
   ]
  },
  {
   "cell_type": "code",
   "execution_count": null,
   "id": "bb279b9d",
   "metadata": {},
   "outputs": [],
   "source": [
    "from pydantic import BaseModel\n",
    "import pandas as pd\n",
    "\n",
    "df = pd.read_excel(\"sample_data/SRO658_DOORS.xlsx\", engine=\"openpyxl\")\n",
    "\n",
    "df.columns\n",
    "# df['Object Text']"
   ]
  },
  {
   "cell_type": "code",
   "execution_count": null,
   "id": "6255859b",
   "metadata": {},
   "outputs": [],
   "source": [
    "from pydantic import BaseModel\n",
    "import pandas as pd\n",
    "\n",
    "# Read and load the markup into dataframe.\n",
    "df_markup = pd.read_excel(\"sample_data/SRO658Markup.xlsx\", engine=\"openpyxl\")\n",
    "# Read and load the export from DOORS into dataframe.\n",
    "df_doors = pd.read_excel(\"sample_data/SRO658_DOORS.xlsx\", engine=\"openpyxl\")\n",
    "\n",
    "df_compare = df_markup['Object Text'].compare(df_doors['Object Text'], align_axis=\"index\")\n",
    "df_compare.infer_objects\n",
    "# print(df_compare['self'])\n",
    "# print(df_compare['other'])\n"
   ]
  }
 ],
 "metadata": {
  "kernelspec": {
   "display_name": "venv",
   "language": "python",
   "name": "python3"
  },
  "language_info": {
   "codemirror_mode": {
    "name": "ipython",
    "version": 3
   },
   "file_extension": ".py",
   "mimetype": "text/x-python",
   "name": "python",
   "nbconvert_exporter": "python",
   "pygments_lexer": "ipython3",
   "version": "3.13.2"
  }
 },
 "nbformat": 4,
 "nbformat_minor": 5
}
