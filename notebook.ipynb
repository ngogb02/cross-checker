{
 "cells": [
  {
   "cell_type": "code",
   "execution_count": 9,
   "id": "e4512b83",
   "metadata": {},
   "outputs": [
    {
     "data": {
      "application/vnd.microsoft.datawrangler.viewer.v0+json": {
       "columns": [
        {
         "name": "index",
         "rawType": "int64",
         "type": "integer"
        },
        {
         "name": "Object Text",
         "rawType": "object",
         "type": "string"
        }
       ],
       "ref": "61b85ed5-4cf6-4e95-a74d-955aaf4e4852",
       "rows": [
        [
         "0",
         "The EDFCS Autopilot Stabilizer Trim Function shall have increased responsiveness in each of the following conditions except during Fail Op, dual channel approach:\na. Flap Change\nb. Vertical Speed\nb. VNAV Speed\nc. Level Change\nd. VNAV Altitude Acquire\ne. Altitude Acquire\nf. Glideslope Tracking\ng. Residual Oscillation from Autopilot"
        ]
       ],
       "shape": {
        "columns": 1,
        "rows": 1
       }
      },
      "text/plain": [
       "0    The EDFCS Autopilot Stabilizer Trim Function s...\n",
       "Name: Object Text, dtype: object"
      ]
     },
     "execution_count": 9,
     "metadata": {},
     "output_type": "execute_result"
    }
   ],
   "source": [
    "from pydantic import BaseModel\n",
    "import pandas as pd\n",
    "\n",
    "df = pd.read_excel(\"sample_data/SRO658Markup.xlsx\", engine=\"openpyxl\")\n",
    "\n",
    "type(df)\n",
    "\n",
    "df.columns\n",
    "df['Object Text']"
   ]
  }
 ],
 "metadata": {
  "kernelspec": {
   "display_name": "venv",
   "language": "python",
   "name": "python3"
  },
  "language_info": {
   "codemirror_mode": {
    "name": "ipython",
    "version": 3
   },
   "file_extension": ".py",
   "mimetype": "text/x-python",
   "name": "python",
   "nbconvert_exporter": "python",
   "pygments_lexer": "ipython3",
   "version": "3.13.2"
  }
 },
 "nbformat": 4,
 "nbformat_minor": 5
}
